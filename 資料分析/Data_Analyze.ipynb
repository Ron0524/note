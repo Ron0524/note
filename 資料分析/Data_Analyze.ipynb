{
  "nbformat": 4,
  "nbformat_minor": 0,
  "metadata": {
    "colab": {
      "name": "Data_Analyze.ipynb",
      "provenance": [],
      "authorship_tag": "ABX9TyM6oOToM1s9pybV4/erqeV8",
      "include_colab_link": true
    },
    "kernelspec": {
      "name": "python3",
      "display_name": "Python 3"
    }
  },
  "cells": [
    {
      "cell_type": "markdown",
      "metadata": {
        "id": "view-in-github",
        "colab_type": "text"
      },
      "source": [
        "<a href=\"https://colab.research.google.com/github/Ron0524/note/blob/master/Data_Analyze.ipynb\" target=\"_parent\"><img src=\"https://colab.research.google.com/assets/colab-badge.svg\" alt=\"Open In Colab\"/></a>"
      ]
    },
    {
      "cell_type": "markdown",
      "metadata": {
        "id": "-nmAr1ZHKgM5",
        "colab_type": "text"
      },
      "source": [
        "# **Numpy**\n",
        "## np.random.randn\n",
        "\n",
        "隨機產生亂數"
      ]
    },
    {
      "cell_type": "code",
      "metadata": {
        "id": "W27f7IqrBmsz",
        "colab_type": "code",
        "colab": {
          "base_uri": "https://localhost:8080/",
          "height": 51
        },
        "outputId": "f3083072-2bb1-45e2-f24a-218520f13af1"
      },
      "source": [
        "import numpy as np\n",
        "\n",
        "data = np.random.randn(2,3)\n",
        "data"
      ],
      "execution_count": 1,
      "outputs": [
        {
          "output_type": "execute_result",
          "data": {
            "text/plain": [
              "array([[ 1.19988991, -0.54845366, -1.16429113],\n",
              "       [-0.42360933,  0.74809858,  0.49807955]])"
            ]
          },
          "metadata": {
            "tags": []
          },
          "execution_count": 1
        }
      ]
    },
    {
      "cell_type": "code",
      "metadata": {
        "id": "Q5r0PoZdB4UH",
        "colab_type": "code",
        "colab": {
          "base_uri": "https://localhost:8080/",
          "height": 51
        },
        "outputId": "258f96d0-9c59-46ea-9ba4-583474ab7cea"
      },
      "source": [
        "data *10"
      ],
      "execution_count": 2,
      "outputs": [
        {
          "output_type": "execute_result",
          "data": {
            "text/plain": [
              "array([[ 11.99889906,  -5.48453662, -11.64291126],\n",
              "       [ -4.23609325,   7.48098581,   4.9807955 ]])"
            ]
          },
          "metadata": {
            "tags": []
          },
          "execution_count": 2
        }
      ]
    },
    {
      "cell_type": "code",
      "metadata": {
        "id": "fLPhlec2B_9F",
        "colab_type": "code",
        "colab": {
          "base_uri": "https://localhost:8080/",
          "height": 51
        },
        "outputId": "1065b718-8afe-45a0-998c-b38e76876840"
      },
      "source": [
        "data + data"
      ],
      "execution_count": 3,
      "outputs": [
        {
          "output_type": "execute_result",
          "data": {
            "text/plain": [
              "array([[ 2.39977981, -1.09690732, -2.32858225],\n",
              "       [-0.84721865,  1.49619716,  0.9961591 ]])"
            ]
          },
          "metadata": {
            "tags": []
          },
          "execution_count": 3
        }
      ]
    },
    {
      "cell_type": "markdown",
      "metadata": {
        "id": "vSRTAZ1vK-hM",
        "colab_type": "text"
      },
      "source": [
        "# **pandas**\n",
        "\n",
        "### DataFrame\n",
        "將陣列以Table的方式呈現"
      ]
    },
    {
      "cell_type": "code",
      "metadata": {
        "id": "YTdYipr9KuqM",
        "colab_type": "code",
        "colab": {
          "base_uri": "https://localhost:8080/",
          "height": 235
        },
        "outputId": "20e101b5-6942-4a2a-b806-c26308ee7604"
      },
      "source": [
        "import pandas as pd\n",
        "from pandas import DataFrame\n",
        "\n",
        "data = {'state': ['Ohio', 'Ohio', 'Ohio', 'Nevada', 'Nevada', 'Nevada'],\n",
        "        'year': [2000, 2001, 2002, 2001, 2002, 2003],\n",
        "        'pop': [1.5, 1.7, 3.6, 2.4, 2.9, 3.2]}\n",
        "frame = pd.DataFrame(data)\n",
        "frame"
      ],
      "execution_count": 6,
      "outputs": [
        {
          "output_type": "execute_result",
          "data": {
            "text/html": [
              "<div>\n",
              "<style scoped>\n",
              "    .dataframe tbody tr th:only-of-type {\n",
              "        vertical-align: middle;\n",
              "    }\n",
              "\n",
              "    .dataframe tbody tr th {\n",
              "        vertical-align: top;\n",
              "    }\n",
              "\n",
              "    .dataframe thead th {\n",
              "        text-align: right;\n",
              "    }\n",
              "</style>\n",
              "<table border=\"1\" class=\"dataframe\">\n",
              "  <thead>\n",
              "    <tr style=\"text-align: right;\">\n",
              "      <th></th>\n",
              "      <th>state</th>\n",
              "      <th>year</th>\n",
              "      <th>pop</th>\n",
              "    </tr>\n",
              "  </thead>\n",
              "  <tbody>\n",
              "    <tr>\n",
              "      <th>0</th>\n",
              "      <td>Ohio</td>\n",
              "      <td>2000</td>\n",
              "      <td>1.5</td>\n",
              "    </tr>\n",
              "    <tr>\n",
              "      <th>1</th>\n",
              "      <td>Ohio</td>\n",
              "      <td>2001</td>\n",
              "      <td>1.7</td>\n",
              "    </tr>\n",
              "    <tr>\n",
              "      <th>2</th>\n",
              "      <td>Ohio</td>\n",
              "      <td>2002</td>\n",
              "      <td>3.6</td>\n",
              "    </tr>\n",
              "    <tr>\n",
              "      <th>3</th>\n",
              "      <td>Nevada</td>\n",
              "      <td>2001</td>\n",
              "      <td>2.4</td>\n",
              "    </tr>\n",
              "    <tr>\n",
              "      <th>4</th>\n",
              "      <td>Nevada</td>\n",
              "      <td>2002</td>\n",
              "      <td>2.9</td>\n",
              "    </tr>\n",
              "    <tr>\n",
              "      <th>5</th>\n",
              "      <td>Nevada</td>\n",
              "      <td>2003</td>\n",
              "      <td>3.2</td>\n",
              "    </tr>\n",
              "  </tbody>\n",
              "</table>\n",
              "</div>"
            ],
            "text/plain": [
              "    state  year  pop\n",
              "0    Ohio  2000  1.5\n",
              "1    Ohio  2001  1.7\n",
              "2    Ohio  2002  3.6\n",
              "3  Nevada  2001  2.4\n",
              "4  Nevada  2002  2.9\n",
              "5  Nevada  2003  3.2"
            ]
          },
          "metadata": {
            "tags": []
          },
          "execution_count": 6
        }
      ]
    }
  ]
}
